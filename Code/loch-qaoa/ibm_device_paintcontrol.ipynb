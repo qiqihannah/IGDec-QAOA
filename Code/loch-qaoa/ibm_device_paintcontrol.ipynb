{
 "cells": [
  {
   "cell_type": "code",
   "metadata": {
    "collapsed": true,
    "ExecuteTime": {
     "end_time": "2024-06-22T01:15:43.161755Z",
     "start_time": "2024-06-22T01:15:37.251728Z"
    }
   },
   "source": [
    "# General imports\n",
    "import numpy as np\n",
    "\n",
    "# Pre-defined ansatz circuit, operator class and visualization tools\n",
    "from qiskit.circuit.library import QAOAAnsatz\n",
    "from qiskit.quantum_info import SparsePauliOp\n",
    "from qiskit.visualization import plot_distribution\n",
    "\n",
    "# Qiskit Runtime\n",
    "from qiskit_ibm_runtime import QiskitRuntimeService, Session\n",
    "from qiskit_ibm_runtime import EstimatorV2 as Estimator\n",
    "from qiskit_ibm_runtime import SamplerV2 as Sampler\n",
    "\n",
    "# SciPy minimizer routine\n",
    "from scipy.optimize import minimize\n",
    "import pickle\n",
    "\n",
    "# rustworkx graph library\n",
    "import rustworkx as rx\n",
    "from rustworkx.visualization import mpl_draw\n",
    "\n",
    "from qiskit.transpiler.preset_passmanagers import generate_preset_pass_manager\n",
    "\n",
    "from qiskit_ibm_runtime import QiskitRuntimeService\n",
    "#\n",
    "\n",
    "def cost_func(params, ansatz, hamiltonian, estimator, para_root):\n",
    "    \"\"\"Return estimate of energy from estimator\n",
    "\n",
    "    Parameters:\n",
    "        params (ndarray): Array of ansatz parameters\n",
    "        ansatz (QuantumCircuit): Parameterized ansatz circuit\n",
    "        hamiltonian (SparsePauliOp): Operator representation of Hamiltonian\n",
    "        estimator (EstimatorV2): Estimator primitive instance\n",
    "\n",
    "    Returns:\n",
    "        float: Energy estimate\n",
    "    \"\"\"\n",
    "    with open(para_root, 'rb') as file:\n",
    "        para_list = pickle.load(file)\n",
    "    para_list.append(params)\n",
    "    with open(para_root, 'wb') as file:\n",
    "        pickle.dump(para_list, file)\n",
    "    print(params)\n",
    "    pub = (ansatz, [hamiltonian], [params])\n",
    "    result = estimator.run(pubs=[pub]).result()\n",
    "    cost = result[0].data.evs[0]\n",
    "\n",
    "    return cost\n",
    "QiskitRuntimeService.save_account(\n",
    "    channel=\"ibm_quantum\",\n",
    "    token=\"XXX\",\n",
    "    set_as_default=True,\n",
    "    # Use `overwrite=True` if you're updating your token.\n",
    "    overwrite=True,\n",
    ")\n",
    "# To run on hardware, select the backend with the fewest number of jobs in the queue\n",
    "service = QiskitRuntimeService(channel=\"ibm_quantum\")\n",
    "backend = service.backends(name=\"ibm_brisbane\")[0]"
   ],
   "outputs": [],
   "execution_count": 1
  },
  {
   "cell_type": "code",
   "source": [
    "from qiskit_optimization.algorithms import MinimumEigenOptimizer\n",
    "from qiskit_optimization.translators import to_ising\n",
    "from qiskit_optimization.problems import QuadraticProgram\n",
    "from qiskit.result import QuasiDistribution\n",
    "from typing import List, Union\n",
    "from qiskit.quantum_info import Pauli, Statevector\n",
    "from qiskit.result import QuasiDistribution\n",
    "import numpy as np\n",
    "from docplex.mp.model import Model\n",
    "from qiskit_algorithms import QAOA\n",
    "from qiskit_optimization.algorithms import OptimizationResult\n",
    "from qiskit_optimization.problems.quadratic_program import QuadraticProgram\n",
    "from qiskit_optimization.translators import from_docplex_mp\n",
    "from qiskit_optimization.applications import OptimizationApplication\n",
    "from qiskit_optimization.converters import QuadraticProgramToQubo\n",
    "import pandas as pd\n",
    "import random\n",
    "import sys\n",
    "\n",
    "\n",
    "# from qiskit.algorithms.minimum_eigensolvers import QAOA, NumPyMinimumEigensolver\n",
    "from qiskit.primitives import Sampler\n",
    "import argparse\n",
    "import time\n",
    "import matplotlib.pyplot as plt\n",
    "import random\n",
    "import pandas as pd\n",
    "import os"
   ],
   "metadata": {
    "collapsed": false,
    "ExecuteTime": {
     "end_time": "2024-06-22T01:15:52.190410Z",
     "start_time": "2024-06-22T01:15:51.244814Z"
    }
   },
   "outputs": [],
   "execution_count": 2
  },
  {
   "cell_type": "code",
   "source": [
    "def replace_Z_hami(hami, num):\n",
    "    new = list(hami)\n",
    "    new[num] = 'Z'\n",
    "    return ''.join(new)"
   ],
   "metadata": {
    "collapsed": false
   },
   "outputs": [],
   "execution_count": null
  },
  {
   "cell_type": "code",
   "source": [
    "from typing import List, Union\n",
    "from docplex.mp.model import Model\n",
    "from qiskit_optimization.problems.quadratic_program import QuadraticProgram\n",
    "from qiskit_optimization.applications import OptimizationApplication\n",
    "from qiskit_algorithms.optimizers import COBYLA\n",
    "import pandas as pd\n",
    "import time\n",
    "from itertools import combinations\n",
    "\n",
    "class TestCaseOptimization(OptimizationApplication):\n",
    "    \"\"\"Optimization application for the \"knapsack problem\" [1].\n",
    "\n",
    "    References:\n",
    "        [1]: \"Knapsack problem\",\n",
    "        https://en.wikipedia.org/wiki/Knapsack_problem\n",
    "    \"\"\"\n",
    "\n",
    "    def __init__(self, times: List[float], frs: List[float], w1: float, w2: float, w3: float, sample: List[int],\n",
    "                 solution: List[int]) -> None:\n",
    "        \"\"\"\n",
    "        Args:\n",
    "            values: A list of the values of items\n",
    "            weights: A list of the weights of items\n",
    "            max_weight: The maximum weight capacity\n",
    "        \"\"\"\n",
    "        self._times = times\n",
    "        self._frs = frs\n",
    "        self._w1 = w1\n",
    "        self._w2 = w2\n",
    "        self._w3 = w3\n",
    "        self._sample = sample\n",
    "        self._solution = solution\n",
    "\n",
    "    def to_quadratic_program(self) -> QuadraticProgram:\n",
    "        \"\"\"Convert a knapsack problem instance into a\n",
    "        :class:`~qiskit_optimization.problems.QuadraticProgram`\n",
    "\n",
    "        Returns:\n",
    "            The :class:`~qiskit_optimization.problems.QuadraticProgram` created\n",
    "            from the knapsack problem instance.\n",
    "        \"\"\"\n",
    "        mdl = Model(name=\"TestCaseOptimization\")\n",
    "        x = {i: mdl.binary_var(name=f\"x_{i}\") for i in self._sample}\n",
    "\n",
    "        obj_time = 0\n",
    "        obj_rate = 0\n",
    "        obj_num = 0\n",
    "\n",
    "        #         dic_clamp = {}\n",
    "        for i in range(len(self._solution)):\n",
    "            if i in self._sample:\n",
    "                obj_time += self._times[i] * x[i]\n",
    "                obj_rate += self._frs[i] * x[i]\n",
    "                obj_num += x[i]\n",
    "            else:\n",
    "                obj_time += self._times[i] * self._solution[i]\n",
    "                obj_rate += self._frs[i] * self._solution[i]\n",
    "                obj_num += self._solution[i]\n",
    "\n",
    "        time_sum = sum(self._times)\n",
    "        rate_sum = sum(self._frs)\n",
    "\n",
    "        obj_time = pow(obj_time / time_sum, 2)\n",
    "        obj_rate = pow((obj_rate - rate_sum) / rate_sum, 2)\n",
    "        obj_num = pow(obj_num / len(self._times), 2)\n",
    "\n",
    "        obj = self._w1 * obj_time + self._w2 * obj_rate + self._w3 * obj_num\n",
    "\n",
    "        mdl.minimize(obj)\n",
    "        op = from_docplex_mp(mdl)\n",
    "        ising = to_ising(op)\n",
    "\n",
    "        return op, ising\n",
    "\n",
    "    def interpret(self, result: Union[OptimizationResult, np.ndarray]) -> List[int]:\n",
    "        \"\"\"Interpret a result as item indices\n",
    "\n",
    "        Args:\n",
    "            result : The calculated result of the problem\n",
    "\n",
    "        Returns:\n",
    "            A list of items whose corresponding variable is 1\n",
    "        \"\"\"\n",
    "        x = self._result_to_x(result)\n",
    "        return [i for i, value in enumerate(x) if value]"
   ],
   "metadata": {
    "collapsed": false,
    "ExecuteTime": {
     "end_time": "2024-06-22T01:15:52.199160Z",
     "start_time": "2024-06-22T01:15:52.191614Z"
    }
   },
   "outputs": [],
   "execution_count": 3
  },
  {
   "cell_type": "code",
   "source": [
    "def create_qubo(times, frs, w1, w2, w3, sample, solution):\n",
    "    testcase = TestCaseOptimization(times, frs, w1, w2, w3, sample, solution)\n",
    "    op, obj = testcase.to_quadratic_program()\n",
    "    return op, obj\n",
    "\n",
    "def get_data(data):\n",
    "    times = data[\"time\"].values.tolist()\n",
    "    frs = data[\"rate\"].values.tolist()\n",
    "    return times, frs\n",
    "\n",
    "def print_diet(sample,data):\n",
    "    count = 0\n",
    "    total_time = 0\n",
    "    total_rate = 0\n",
    "    time_list = []\n",
    "    rate_list = []\n",
    "    for t in range(len(sample)):\n",
    "        if sample[t] == 1:\n",
    "            total_time += data.iloc[t]['time']\n",
    "            total_rate += data.iloc[t]['rate']\n",
    "            time_list.append(data.iloc[t]['time'])\n",
    "            rate_list.append(data.iloc[t]['rate'])\n",
    "            # print(t[1:]+'. ',end=' ')\n",
    "            # print('time: '+str(foods[t]['time']), end=', ')\n",
    "            # print('rate: '+str(foods[t]['rate']), end='\\n')\n",
    "            count += 1\n",
    "    fval = (1 / 3) * pow(sum(time_list) / sum(data['time']), 2) + (1 / 3) * pow((sum(rate_list) - sum(data[\"rate\"]) + 1e-20) / (sum(data[\"rate\"])+1e-20), 2) + (1 / 3) * pow(count / len(data), 2)\n",
    "    # print(\"Total time: \" + str(total_time))\n",
    "    # print(\"Total rate: \" + str(total_rate))\n",
    "#     print(\"Fval value:\" + str(fval))\n",
    "#     print(\"Number: \"+str(count))\n",
    "    return fval\n",
    "\n",
    "def OrderByImpact(best_solution, df, best_energy):\n",
    "    impact_values = {}\n",
    "    for case in range(len(best_solution)):\n",
    "        if best_solution[case] == 1:\n",
    "            temp = best_solution.copy()\n",
    "            temp[case] = 0\n",
    "            impact_values[case] = 1\n",
    "            impact_values[case] = print_diet(temp, df) - best_energy\n",
    "        elif best_solution[case] == 0:\n",
    "            temp = best_solution.copy()\n",
    "            temp[case]=1\n",
    "            impact_values[case] = print_diet(temp, df) - best_energy\n",
    "    print(impact_values)\n",
    "    impact_values = sorted(impact_values.items(), key = lambda kv:(kv[1], kv[0]))\n",
    "    impact_list = []\n",
    "    for case in impact_values:\n",
    "        impact_list.append(case[0])\n",
    "    return impact_list\n",
    "\n",
    "def OrderByImpactNum(best_solution, df, best_energy):\n",
    "    num = len(best_solution)\n",
    "    time_array = list(df[\"time\"])\n",
    "    rate_array = list(df[\"rate\"])\n",
    "    time_matrix = np.array(time_array).reshape(-1, 1)\n",
    "    rate_matrix = np.array(rate_array).reshape(-1, 1)\n",
    "    num_matrix = np.full((num,1), 1)\n",
    "    matrix = np.array([best_solution] * len(best_solution))\n",
    "    for i in range(num):\n",
    "        if matrix[i][i] == 0:\n",
    "            matrix[i][i] = 1\n",
    "        elif matrix[i][i] == 1:\n",
    "            matrix[i][i] = 0\n",
    "    time_sum = sum(time_array)\n",
    "    rate_sum = sum(rate_array)\n",
    "    # time_sum_con = np.full((len(best_solution), 1), time_sum)\n",
    "    # rate_sum_con = np.full((len(best_solution), 1), rate_sum)\n",
    "    time_obj = matrix.dot(time_matrix)\n",
    "    rate_obj = matrix.dot(rate_matrix) - rate_sum + 1e-20\n",
    "    num_obj = matrix.dot(num_matrix)\n",
    "    obj = (1/3)*(time_obj/time_sum)**2 + (1/3)*(rate_obj/(rate_sum+1e-20))**2 + (1/3)*((num_obj)/len(best_solution))**2 - best_energy\n",
    "    # Get the sorted indices\n",
    "    sorted_indices = np.argsort(obj, axis=0)\n",
    "\n",
    "    # Convert the sorted indices to a flattened array\n",
    "    sorted_indices = sorted_indices.flatten()\n",
    "\n",
    "    return sorted_indices\n",
    "\n",
    "\n",
    "def run_alg(qubo, reps):\n",
    "    global quantum_instance\n",
    "    # seed = random.randint(1, 9999999)\n",
    "    # algorithm_globals.random_seed = seed\n",
    "    optimizer = COBYLA(1)\n",
    "    qaoa_mes = QAOA(quantum_instance=quantum_instance, optimizer=optimizer, include_custom=True, reps=reps)\n",
    "    qaoa = MinimumEigenOptimizer(qaoa_mes)\n",
    "    begin = time.time()\n",
    "    qaoa_result = qaoa.solve(qubo)\n",
    "    end = time.time()\n",
    "    exe_time = end-begin\n",
    "    return qaoa_result, exe_time\n",
    "\n",
    "def print_result(result, testcase):\n",
    "    selection = result.x\n",
    "    value = result.fval\n",
    "    print(\"Optimal: selection {}, value {:.4f}\".format(selection, value))\n",
    "\n",
    "    eigenstate = result.min_eigen_solver_result.eigenstate\n",
    "    probabilities = (\n",
    "        eigenstate.binary_probabilities()\n",
    "        if isinstance(eigenstate, QuasiDistribution)\n",
    "        else {k: np.abs(v) ** 2 for k, v in eigenstate.items()}\n",
    "    )\n",
    "    print(\"\\n----------------- Full result ---------------------\")\n",
    "    print(\"selection\\tvalue\\t\\tprobability\")\n",
    "    print(\"---------------------------------------------------\")\n",
    "    probabilities = sorted(probabilities.items(), key=lambda x: x[1], reverse=True)\n",
    "\n",
    "    for k, v in probabilities:\n",
    "        x = np.array([int(i) for i in list(reversed(k))])\n",
    "        value = testcase.to_quadratic_program().objective.evaluate(x)\n",
    "        print(\"%10s\\t%.4f\\t\\t%.4f\" % (x, value, v))\n",
    "\n",
    "def plot(fval_list, reps, file_name, problem_size):\n",
    "    plt.plot(fval_list)\n",
    "    plt.ylabel('fval')\n",
    "    plt.savefig(\"qaoa_\"+str(reps)+\"/\" + file_name + \"/size_\" + str(problem_size) + \"/\" + str(num_experiment)+\"/fval_trend.png\")\n",
    "\n",
    "def scatter_merge(solution, data):\n",
    "    time = []\n",
    "    rate = []\n",
    "    for t in range(len(solution)):\n",
    "        if solution[t] == 1.0:\n",
    "            time.append(data.iloc[t]['time'])\n",
    "            rate.append(data.iloc[t]['rate'])\n",
    "    plt.scatter(data[\"time\"], data[\"rate\"], c='red')\n",
    "    plt.scatter(time, rate)\n",
    "    plt.show()\n",
    "\n",
    "def get_initial_fval(length):\n",
    "    initial_values = [random.choice([0, 1]) for _ in range(length)]\n",
    "    fval = print_diet(initial_values, df)\n",
    "    best_solution=initial_values\n",
    "    best_energy=fval\n",
    "    return best_solution, best_energy"
   ],
   "metadata": {
    "collapsed": false,
    "ExecuteTime": {
     "end_time": "2024-06-22T01:15:52.218526Z",
     "start_time": "2024-06-22T01:15:52.200610Z"
    }
   },
   "outputs": [],
   "execution_count": 4
  },
  {
   "cell_type": "code",
   "source": [
    "file_name = \"sampled_paintcontrol\"\n",
    "problem_size=7\n",
    "index_end = problem_size\n",
    "index_begin = 0\n",
    "df = pd.DataFrame()\n",
    "df = pd.read_csv(\"data/\"+file_name+\".csv\", dtype={\"time\": float, \"rate\": float})\n",
    "length = len(df)\n",
    "best_solution, best_energy = get_initial_fval(length)\n",
    "best_itr = 0\n",
    "impact_order = OrderByImpactNum(best_solution, df, best_energy)\n",
    "solution = best_solution.copy()\n",
    "times, frs = get_data(df)\n",
    "case_list = impact_order[index_begin:index_end]\n",
    "op, obj = create_qubo(times, frs, 1 / 3, 1 / 3, 1 / 3, case_list, solution)"
   ],
   "metadata": {
    "collapsed": false,
    "ExecuteTime": {
     "end_time": "2024-06-22T01:15:52.250596Z",
     "start_time": "2024-06-22T01:15:52.219394Z"
    }
   },
   "outputs": [],
   "execution_count": 5
  },
  {
   "cell_type": "code",
   "source": [
    "from qiskit_aer import AerSimulator\n",
    "\n",
    "# Step 1. map classical inputs to a quantum problem\n",
    "# Problem to Hamiltonian operator\n",
    "# hamiltonian = SparsePauliOp.from_list(hami_list)\n",
    "hamiltonian = obj[0]\n",
    "# QAOA ansatz circuit\n",
    "ansatz = QAOAAnsatz(hamiltonian, reps=1)\n",
    "# Step 2. Optimize problem for quantum execution\n",
    "# backend = AerSimulator()\n",
    "service = QiskitRuntimeService(channel=\"ibm_quantum\")\n",
    "backend = service.backends(name=\"ibm_brisbane\")[0]\n",
    "# target = backend.target\n",
    "# pm = generate_preset_pass_manager(target=target, optimization_level=3)\n",
    "pm = generate_preset_pass_manager(backend=backend, optimization_level=3)\n",
    "\n",
    "ansatz_isa = pm.run(ansatz)\n",
    "\n",
    "# ISA Obsesrvables\n",
    "hamiltonian_isa = hamiltonian.apply_layout(ansatz_isa.layout)\n",
    "# Step 3: execute using Qiskit Primitives\n",
    "# session = Session(backend=backend)\n",
    "\n",
    "# Configure estimator\n",
    "estimator = Estimator(backend=backend)\n",
    "estimator.options.default_shots = 1024\n",
    "# estimator.options.twirling.shots_per_randomization = 1\n",
    "# estimator.options.twirling.num_randomizations = 1\n",
    "# estimator.options.twirling.enable_measure = False\n",
    "estimator.options.optimization_level = 1\n",
    "\n",
    "# estimator.options.dynamical_decoupling.enable = True\n",
    "\n",
    "# # Configure sampler\n",
    "# sampler = Sampler(session=session)\n",
    "# sampler.options.default_shots = 1024\n",
    "# sampler.options.dynamical_decoupling.enable = True\n",
    "\n",
    "x0 = 2 * np.pi * np.random.rand(ansatz_isa.num_parameters)\n",
    "\n",
    "res = minimize(cost_func, x0, args=(ansatz_isa, hamiltonian_isa, estimator), method=\"COBYLA\", options={\"maxiter\":50})\n",
    "res"
   ],
   "metadata": {
    "collapsed": false
   },
   "outputs": [],
   "execution_count": null
  },
  {
   "cell_type": "markdown",
   "source": [
    "message: Optimization terminated successfully.\n",
    " success: True\n",
    "  status: 1\n",
    "     fun: -0.004078745664068058\n",
    "       x: [ 4.363e+00  8.082e-01]\n",
    "    nfev: 26\n",
    "   maxcv: 0.0"
   ],
   "metadata": {
    "collapsed": false
   }
  },
  {
   "cell_type": "code",
   "source": [
    "import pickle\n",
    "# Path to save the pickle file\n",
    "pickle_file_path = 'result_1.pickle'\n",
    "\n",
    "try:\n",
    "    with open(pickle_file_path, 'wb') as file:\n",
    "        pickle.dump(res, file)\n",
    "    print(f\"Dictionary successfully saved to {pickle_file_path}\")\n",
    "except Exception as e:\n",
    "    print(f\"An error occurred: {e}\")"
   ],
   "metadata": {
    "collapsed": false
   },
   "outputs": [],
   "execution_count": null
  },
  {
   "cell_type": "code",
   "source": [
    "from qiskit_ibm_runtime import SamplerV2 as Sampler\n",
    "# Assign solution parameters to ansatz\n",
    "qc = ansatz.assign_parameters(res.x)\n",
    "# Add measurements to our circuit\n",
    "qc.measure_all()\n",
    "qc_isa = pm.run(qc)\n",
    "\n",
    "sampler = Sampler(backend=backend)\n",
    "sampler.options.default_shots = 1024\n",
    "result = sampler.run([qc_isa]).result()\n",
    "\n",
    "# Close the session since we are now done with it\n",
    "# qc_isa.draw(output=\"mpl\", idle_wires=False, style=\"iqp\")\n",
    "plot_distribution(result.quasi_dists, figsize=(15, 5))"
   ],
   "metadata": {
    "collapsed": false
   },
   "outputs": [],
   "execution_count": null
  },
  {
   "cell_type": "code",
   "source": [
    "samp_dist = result[0].data.meas.get_counts()\n",
    "samp_dist"
   ],
   "metadata": {
    "collapsed": false
   },
   "outputs": [],
   "execution_count": null
  },
  {
   "cell_type": "code",
   "source": [
    "solution = best_solution.copy()\n",
    "optimal_fva = print_diet(best_solution, df)\n",
    "optimal_bits = ''\n",
    "optimal_samp = 0\n",
    "optimal_solution = []\n",
    "for s in samp_dist.keys():\n",
    "    for case_index in range(len(case_list)):\n",
    "        solution[case_list[case_index]] = int(s[case_index])\n",
    "    fval = print_diet(solution, df)\n",
    "    if fval < optimal_fva:\n",
    "        optimal_fva = fval\n",
    "        optimal_bits = s\n",
    "        optimal_samp = samp_dist[s]\n",
    "        optimal_solution = solution\n",
    "    print(s+\" \"+str(samp_dist[s])+\" \"+str(fval))\n",
    "print(optimal_fva)\n",
    "print(optimal_samp)\n",
    "print(optimal_bits)\n",
    "print(optimal_solution)"
   ],
   "metadata": {
    "collapsed": false
   },
   "outputs": [],
   "execution_count": null
  },
  {
   "cell_type": "code",
   "source": [
    "head_log = [\"itr_num\", \"sub_problem\", \"fval\", \"solution\", \"cobyla_itr\", \"parameters\"]\n",
    "log_df = pd.DataFrame(columns=head_log)"
   ],
   "metadata": {
    "collapsed": false
   },
   "outputs": [],
   "execution_count": null
  },
  {
   "cell_type": "code",
   "source": [
    "itr_num = 1\n",
    "cobyla_itr = res.nfev\n",
    "parameters = res.x\n",
    "values_log = [itr_num, case_list, optimal_fva, optimal_solution, cobyla_itr, parameters]\n",
    "log_df.loc[len(log_df)] = values_log\n",
    "log_df.to_csv(\"qaoa_hardware/\"+\"log_1.csv\")\n",
    "\n",
    "pickle_file_path = 'qaoa_hardware/primitive_1.pickle'\n",
    "\n",
    "try:\n",
    "    with open(pickle_file_path, 'wb') as file:\n",
    "        pickle.dump(result, file)\n",
    "    print(f\"Dictionary successfully saved to {pickle_file_path}\")\n",
    "except Exception as e:\n",
    "    print(f\"An error occurred: {e}\")"
   ],
   "metadata": {
    "collapsed": false
   },
   "outputs": [],
   "execution_count": null
  },
  {
   "cell_type": "code",
   "source": [
    "head_samp = [\"bit_string\", \"counts\", \"fval\"]\n",
    "samp_df = pd.DataFrame(columns=head_samp)\n",
    "solution = best_solution.copy()\n",
    "optimal_fva = print_diet(best_solution, df)\n",
    "optimal_bits = ''\n",
    "optimal_samp = 0\n",
    "optimal_solution = []\n",
    "\n",
    "for s in samp_dist.keys():\n",
    "    for case_index in range(len(case_list)):\n",
    "        solution[case_list[case_index]] = int(s[case_index])\n",
    "    fval = print_diet(solution, df)\n",
    "    value_samp = [s, samp_dist[s], fval]\n",
    "    samp_df.loc[len(samp_df)] = value_samp\n",
    "    if fval < optimal_fva:\n",
    "        optimal_fva = fval\n",
    "        optimal_bits = s\n",
    "        optimal_samp = samp_dist[s]\n",
    "        optimal_solution = solution\n",
    "samp_df.to_csv(\"qaoa_hardware/\"+\"samp_1.csv\")\n",
    "optimal_fva"
   ],
   "metadata": {
    "collapsed": false
   },
   "outputs": [],
   "execution_count": null
  },
  {
   "cell_type": "code",
   "source": [
    "# import pandas as pd\n",
    "#\n",
    "# # file_name = \"sampled_paintcontrol\"\n",
    "# # df = pd.read_csv(\"data/\"+file_name+\".csv\", dtype={\"time\": float, \"rate\": float})\n",
    "# log1_info = pd.read_csv(\"qaoa_hardware/log_1.csv\")\n",
    "#\n",
    "#\n",
    "# # Step 3: Save the CSV file\n",
    "#\n",
    "#\n",
    "# # case_list = log1_info['sub_problem'][0][1:-1].split(' ')\n",
    "# # index = [0, 2, 3, 4, 5, 6, 7]\n",
    "# # case_list = [int(case_list[x]) for x in index\n",
    "# solution = [1, 1, 0, 0, 1, 1, 0, 1, 0, 1, 0, 0, 0, 1, 0, 1, 0, 1, 0, 1, 1, 1, 0, 1, 1, 1, 1, 0, 1, 1, 0, 0, 1, 0, 0, 0, 0, 1, 1, 1, 0, 0, 0, 0, 1, 0]\n",
    "# s = [0,0,1,1,0,0,0]\n",
    "# case_index = [16,  1, 33, 36, 40, 38, 28]\n",
    "# for case_index in range(len(case_list)):\n",
    "#     solution[case_list[case_index]] = int(s[case_index])\n",
    "# # fval = print_diet(solution, df)\n",
    "# best_itr1 = [int(x) for x in log1_info['solution'][0][1:-1].split(', ')]\n",
    "# fval = print_diet(solution, df)\n",
    "#\n",
    "# log1_info.at[0, 'solution'] = solution\n",
    "# log1_info.to_csv(\"qaoa_hardware/log_1.csv\", index=False)\n",
    "# log1_info\n",
    "log1_info = pd.read_csv(\"qaoa_hardware/log_1.csv\")\n",
    "optimal_solution = [int(x) for x in log1_info[\"solution\"][0][1:-1].split(', ')]\n",
    "optimal_fva = print_diet(optimal_solution, df)"
   ],
   "metadata": {
    "collapsed": false,
    "ExecuteTime": {
     "end_time": "2024-06-22T01:23:01.888632Z",
     "start_time": "2024-06-22T01:23:01.880480Z"
    }
   },
   "outputs": [],
   "execution_count": 6
  },
  {
   "cell_type": "code",
   "source": [
    "from qiskit_aer import AerSimulator\n",
    "energy = optimal_fva\n",
    "solution = optimal_solution\n",
    "start_impact = time.time()\n",
    "impact_order = OrderByImpactNum(solution, df, energy)\n",
    "end_impact = time.time()\n",
    "impact_time = end_impact-start_impact\n",
    "index_begin = 0\n",
    "index_end = problem_size\n",
    "case_list = impact_order[index_begin:index_end]\n",
    "op, obj = create_qubo(times, frs, 1 / 3, 1 / 3, 1 / 3, case_list, solution)\n",
    "# Step 1. map classical inputs to a quantum problem\n",
    "# Problem to Hamiltonian operator\n",
    "hamiltonian = obj[0]\n",
    "# QAOA ansatz circuit\n",
    "ansatz = QAOAAnsatz(hamiltonian, reps=1)\n",
    "# Step 2. Optimize problem for quantum execution\n",
    "service = QiskitRuntimeService(channel=\"ibm_quantum\")\n",
    "backend = service.backends(name=\"ibm_brisbane\")[0]\n",
    "# backend = AerSimulator()\n",
    "pm = generate_preset_pass_manager(backend=backend, optimization_level=3)\n",
    "ansatz_isa = pm.run(ansatz)\n",
    "# ISA Obsesrvables\n",
    "hamiltonian_isa = hamiltonian.apply_layout(ansatz_isa.layout)\n",
    "# Step 3: execute using Qiskit Primitives\n",
    "\n",
    "# Configure estimator\n",
    "estimator = Estimator(backend=backend)\n",
    "estimator.options.default_shots = 1024\n",
    "# estimator.options.twirling.shots_per_randomization = 1\n",
    "# estimator.options.twirling.num_randomizations = 1\n",
    "# estimator.options.twirling.enable_measure = False\n",
    "estimator.options.optimization_level = 1\n",
    "\n",
    "x0 = 2 * np.pi * np.random.rand(ansatz_isa.num_parameters)\n",
    "\n",
    "para_root = \"qaoa_hardware/para_2.pickle\"\n",
    "para = []\n",
    "with open(para_root, 'wb') as file:\n",
    "    pickle.dump(para, file)\n",
    "res = minimize(cost_func, x0, args=(ansatz_isa, hamiltonian_isa, estimator, para_root), method=\"COBYLA\", options={\"maxiter\":50})\n",
    "pickle_file_path = 'qaoa_hardware/result_2.pickle'\n",
    "try:\n",
    "    with open(pickle_file_path, 'wb') as file:\n",
    "        pickle.dump(res, file)\n",
    "    print(f\"Dictionary successfully saved to {pickle_file_path}\")\n",
    "except Exception as e:\n",
    "    print(f\"An error occurred: {e}\")\n",
    "res"
   ],
   "metadata": {
    "collapsed": false,
    "ExecuteTime": {
     "end_time": "2024-06-22T07:34:53.219619Z",
     "start_time": "2024-06-22T01:23:03.825481Z"
    }
   },
   "outputs": [
    {
     "name": "stderr",
     "output_type": "stream",
     "text": [
      "/tmp/ipykernel_941644/3526144959.py:28: DeprecationWarning: The 'backend' keyword arguments are deprecated as of qiskit-ibm-runtime 0.24.0 and will be removed no sooner than 3 months after the release date. Please use the 'mode' parameter instead.\n",
      "  estimator = Estimator(backend=backend)\n"
     ]
    },
    {
     "name": "stdout",
     "output_type": "stream",
     "text": [
      "[0.90950025 2.89503642]\n",
      "[1.90950025 2.89503642]\n",
      "[1.90950025 3.89503642]\n",
      "[2.80346042 2.44689001]\n",
      "[2.35648034 2.67096321]\n",
      "[2.84863092 2.58271467]\n",
      "[2.18882271 2.19991022]\n",
      "[2.60038279 2.61608525]\n",
      "[2.24004424 2.71643448]\n",
      "[2.12421871 2.76343921]\n",
      "[2.26277988 2.77465253]\n",
      "[2.16261127 2.61830633]\n",
      "[2.24628862 2.77862176]\n",
      "[2.27037885 2.70892622]\n",
      "[2.2088206 2.7177176]\n",
      "[2.25272775 2.70730929]\n",
      "[2.25437694 2.69177156]\n",
      "[2.26382056 2.71831339]\n",
      "[2.24970878 2.70010366]\n",
      "[2.24961998 2.70967583]\n",
      "[2.25659314 2.70674577]\n",
      "[2.25204542 2.70547922]\n",
      "[2.25365212 2.70762427]\n",
      "[2.2519438 2.7078916]\n",
      "[2.25273308 2.70682103]\n",
      "[2.25258134 2.70750465]\n",
      "[2.25296736 2.7073561 ]\n",
      "[2.25269406 2.70721513]\n",
      "[2.25277483 2.70729244]\n",
      "[2.25266055 2.70738334]\n",
      "Dictionary successfully saved to qaoa_hardware/result_2.pickle\n"
     ]
    },
    {
     "data": {
      "text/plain": [
       " message: Optimization terminated successfully.\n",
       " success: True\n",
       "  status: 1\n",
       "     fun: 0.002369706291902379\n",
       "       x: [ 2.253e+00  2.707e+00]\n",
       "    nfev: 30\n",
       "   maxcv: 0.0"
      ]
     },
     "execution_count": 7,
     "metadata": {},
     "output_type": "execute_result"
    }
   ],
   "execution_count": 7
  },
  {
   "cell_type": "code",
   "source": [
    "from qiskit_ibm_runtime import SamplerV2 as Sampler\n",
    "\n",
    "# Assign solution parameters to ansatz\n",
    "qc = ansatz.assign_parameters(res.x)\n",
    "# Add measurements to our circuit\n",
    "qc.measure_all()\n",
    "qc_isa = pm.run(qc)\n",
    "\n",
    "sampler = Sampler(backend=backend)\n",
    "sampler.options.default_shots = 1024\n",
    "result = sampler.run([qc_isa]).result()\n",
    "pickle_file_path = 'qaoa_hardware/primitive_2.pickle'\n",
    "try:\n",
    "    with open(pickle_file_path, 'wb') as file:\n",
    "        pickle.dump(result, file)\n",
    "    print(f\"Dictionary successfully saved to {pickle_file_path}\")\n",
    "except Exception as e:\n",
    "    print(f\"An error occurred: {e}\")\n",
    "result"
   ],
   "metadata": {
    "collapsed": false,
    "ExecuteTime": {
     "end_time": "2024-06-22T07:35:36.004271Z",
     "start_time": "2024-06-22T07:34:53.225241Z"
    }
   },
   "outputs": [
    {
     "name": "stderr",
     "output_type": "stream",
     "text": [
      "/tmp/ipykernel_941644/3764481163.py:9: DeprecationWarning: The 'backend' keyword arguments are deprecated as of qiskit-ibm-runtime 0.24.0 and will be removed no sooner than 3 months after the release date. Please use the 'mode' parameter instead.\n",
      "  sampler = Sampler(backend=backend)\n"
     ]
    },
    {
     "name": "stdout",
     "output_type": "stream",
     "text": [
      "Dictionary successfully saved to qaoa_hardware/primitive_2.pickle\n"
     ]
    },
    {
     "data": {
      "text/plain": [
       "PrimitiveResult([PubResult(data=DataBin(meas=BitArray(<shape=(), num_shots=1024, num_bits=7>)), metadata={'circuit_metadata': {}})], metadata={'version': 2})"
      ]
     },
     "execution_count": 8,
     "metadata": {},
     "output_type": "execute_result"
    }
   ],
   "execution_count": 8
  },
  {
   "cell_type": "code",
   "source": [
    "samp_dist = result[0].data.meas.get_counts()"
   ],
   "metadata": {
    "collapsed": false,
    "ExecuteTime": {
     "end_time": "2024-06-22T07:35:36.007683Z",
     "start_time": "2024-06-22T07:35:36.005134Z"
    }
   },
   "outputs": [],
   "execution_count": 9
  },
  {
   "cell_type": "code",
   "source": [
    "head_samp = [\"bit_string\", \"counts\", \"fval\"]\n",
    "samp_df = pd.DataFrame(columns=head_samp)\n",
    "optimal_fva = print_diet(best_solution, df)\n",
    "optimal_bits = ''\n",
    "optimal_samp = 0\n",
    "optimal_solution = []\n",
    "\n",
    "for s in samp_dist.keys():\n",
    "    for case_index in range(len(case_list)):\n",
    "        solution[case_list[case_index]] = int(s[case_index])\n",
    "    fval = print_diet(solution, df)\n",
    "    value_samp = [s, samp_dist[s], fval]\n",
    "    samp_df.loc[len(samp_df)] = value_samp\n",
    "    if fval < optimal_fva:\n",
    "        optimal_fva = fval\n",
    "        optimal_bits = s\n",
    "        optimal_samp = samp_dist[s]\n",
    "        optimal_solution = solution.copy()\n",
    "samp_df.to_csv(\"qaoa_hardware/\"+\"samp_2.csv\")\n",
    "\n",
    "itr_num = 2\n",
    "cobyla_itr = res.nfev\n",
    "parameters = res.x\n",
    "head_log = [\"itr_num\", \"sub_problem\", \"fval\", \"solution\", \"cobyla_itr\", \"parameters\", \"impact_time\"]\n",
    "log_df = pd.DataFrame(columns=head_log)\n",
    "values_log = [itr_num, case_list, optimal_fva, optimal_solution, cobyla_itr, parameters, impact_time]\n",
    "log_df.loc[len(log_df)] = values_log\n",
    "log_df.to_csv(\"qaoa_hardware/\"+\"log_2.csv\")"
   ],
   "metadata": {
    "collapsed": false,
    "ExecuteTime": {
     "end_time": "2024-06-22T07:35:36.370497Z",
     "start_time": "2024-06-22T07:35:36.008790Z"
    }
   },
   "outputs": [],
   "execution_count": 10
  },
  {
   "cell_type": "code",
   "source": [
    "log_info = pd.read_csv(\"qaoa_hardware/log_2.csv\")\n",
    "optimal_solution = [int(x) for x in log_info[\"solution\"][0][1:-1].split(', ')]\n",
    "optimal_fva = print_diet(optimal_solution, df)\n",
    "optimal_fva\n",
    "# best_itr2 = optimal_solution.copy()"
   ],
   "metadata": {
    "collapsed": false,
    "ExecuteTime": {
     "end_time": "2024-06-22T07:35:36.378371Z",
     "start_time": "2024-06-22T07:35:36.371397Z"
    }
   },
   "outputs": [
    {
     "data": {
      "text/plain": [
       "0.1511082650814146"
      ]
     },
     "execution_count": 11,
     "metadata": {},
     "output_type": "execute_result"
    }
   ],
   "execution_count": 11
  },
  {
   "cell_type": "code",
   "source": [
    "energy = optimal_fva\n",
    "solution = optimal_solution\n",
    "start_impact = time.time()\n",
    "impact_order = OrderByImpactNum(solution, df, energy)\n",
    "end_impact = time.time()\n",
    "impact_time = end_impact-start_impact\n",
    "index_begin = 0\n",
    "index_end = problem_size\n",
    "case_list = impact_order[index_begin:index_end]\n",
    "op, obj = create_qubo(times, frs, 1 / 3, 1 / 3, 1 / 3, case_list, solution)\n",
    "# Step 1. map classical inputs to a quantum problem\n",
    "# Problem to Hamiltonian operator\n",
    "hamiltonian = obj[0]\n",
    "# QAOA ansatz circuit\n",
    "ansatz = QAOAAnsatz(hamiltonian, reps=1)\n",
    "# Step 2. Optimize problem for quantum execution\n",
    "service = QiskitRuntimeService(channel=\"ibm_quantum\")\n",
    "backend = service.backends(name=\"ibm_brisbane\")[0]\n",
    "# backend = AerSimulator()\n",
    "pm = generate_preset_pass_manager(backend=backend, optimization_level=3)\n",
    "ansatz_isa = pm.run(ansatz)\n",
    "# ISA Obsesrvables\n",
    "hamiltonian_isa = hamiltonian.apply_layout(ansatz_isa.layout)\n",
    "# Step 3: execute using Qiskit Primitives\n",
    "\n",
    "# Configure estimator\n",
    "estimator = Estimator(backend=backend)\n",
    "estimator.options.default_shots = 1024\n",
    "# estimator.options.twirling.shots_per_randomization = 1\n",
    "# estimator.options.twirling.num_randomizations = 1\n",
    "# estimator.options.twirling.enable_measure = False\n",
    "estimator.options.optimization_level = 1\n",
    "\n",
    "x0 = 2 * np.pi * np.random.rand(ansatz_isa.num_parameters)\n",
    "\n",
    "para_root = \"qaoa_hardware/para_3.pickle\"\n",
    "para = []\n",
    "with open(para_root, 'wb') as file:\n",
    "    pickle.dump(para, file)\n",
    "res = minimize(cost_func, x0, args=(ansatz_isa, hamiltonian_isa, estimator, para_root), method=\"COBYLA\", options={\"maxiter\":50})\n",
    "pickle_file_path = 'qaoa_hardware/result_3.pickle'\n",
    "try:\n",
    "    with open(pickle_file_path, 'wb') as file:\n",
    "        pickle.dump(res, file)\n",
    "    print(f\"Dictionary successfully saved to {pickle_file_path}\")\n",
    "except Exception as e:\n",
    "    print(f\"An error occurred: {e}\")\n",
    "res"
   ],
   "metadata": {
    "collapsed": false,
    "ExecuteTime": {
     "end_time": "2024-06-24T09:00:27.043873Z",
     "start_time": "2024-06-22T07:35:36.379477Z"
    }
   },
   "outputs": [
    {
     "name": "stderr",
     "output_type": "stream",
     "text": [
      "/tmp/ipykernel_941644/3998875362.py:27: DeprecationWarning: The 'backend' keyword arguments are deprecated as of qiskit-ibm-runtime 0.24.0 and will be removed no sooner than 3 months after the release date. Please use the 'mode' parameter instead.\n",
      "  estimator = Estimator(backend=backend)\n"
     ]
    },
    {
     "name": "stdout",
     "output_type": "stream",
     "text": [
      "[5.46927354 2.87198587]\n",
      "[6.46927354 2.87198587]\n",
      "[5.46927354 3.87198587]\n",
      "[4.75993406 2.16711886]\n",
      "[3.79066986 1.92109667]\n",
      "[5.01442293 1.73672902]\n",
      "[4.87025904 2.39145878]\n",
      "[4.9218271  2.63608244]\n",
      "[4.75808908 2.44662127]\n",
      "[5.10405775 2.3029254 ]\n",
      "[4.78162565 2.47960141]\n",
      "[4.92846104 2.3686821 ]\n",
      "[4.83397724 2.34056791]\n",
      "[4.85186578 2.41672241]\n",
      "[4.88549646 2.38800023]\n",
      "[4.90090682 2.38541929]\n",
      "[4.88420599 2.38029505]\n",
      "[4.87912429 2.40226684]\n",
      "[4.88139843 2.38134882]\n"
     ]
    },
    {
     "name": "stderr",
     "output_type": "stream",
     "text": [
      "/home/complexse/anaconda3/envs/ibm_runtime/lib/python3.10/site-packages/qiskit_ibm_runtime/qiskit_runtime_service.py:862: UserWarning: The backend ibm_brisbane currently has a status of internal.\n",
      "  warnings.warn(\n"
     ]
    },
    {
     "name": "stdout",
     "output_type": "stream",
     "text": [
      "[4.8892954  2.38709094]\n",
      "[4.88261687 2.3906397 ]\n",
      "[4.88457376 2.3862788 ]\n",
      "[4.88545334 2.38897584]\n",
      "[4.88641552 2.38767009]\n",
      "[4.88518544 2.38762381]\n",
      "[4.88573315 2.38794039]\n",
      "[4.88540854 2.38822799]\n",
      "[4.88541932 2.3879366 ]\n",
      "[4.88552828 2.38796166]\n",
      "[4.88546673 2.38809571]\n",
      "Dictionary successfully saved to qaoa_hardware/result_3.pickle\n"
     ]
    },
    {
     "data": {
      "text/plain": [
       " message: Optimization terminated successfully.\n",
       " success: True\n",
       "  status: 1\n",
       "     fun: 0.000714157416174381\n",
       "       x: [ 4.885e+00  2.388e+00]\n",
       "    nfev: 30\n",
       "   maxcv: 0.0"
      ]
     },
     "execution_count": 12,
     "metadata": {},
     "output_type": "execute_result"
    }
   ],
   "execution_count": 12
  },
  {
   "cell_type": "code",
   "source": [
    "from qiskit_ibm_runtime import SamplerV2 as Sampler\n",
    "# Assign solution parameters to ansatz\n",
    "qc = ansatz.assign_parameters(res.x)\n",
    "# Add measurements to our circuit\n",
    "qc.measure_all()\n",
    "qc_isa = pm.run(qc)\n",
    "\n",
    "sampler = Sampler(backend=backend)\n",
    "sampler.options.default_shots = 1024\n",
    "result = sampler.run([qc_isa]).result()\n",
    "pickle_file_path = 'qaoa_hardware/primitive_3.pickle'\n",
    "try:\n",
    "    with open(pickle_file_path, 'wb') as file:\n",
    "        pickle.dump(result, file)\n",
    "    print(f\"Dictionary successfully saved to {pickle_file_path}\")\n",
    "except Exception as e:\n",
    "    print(f\"An error occurred: {e}\")\n",
    "result"
   ],
   "metadata": {
    "collapsed": false,
    "ExecuteTime": {
     "end_time": "2024-06-24T09:02:29.208395Z",
     "start_time": "2024-06-24T09:00:27.044793Z"
    }
   },
   "outputs": [
    {
     "name": "stderr",
     "output_type": "stream",
     "text": [
      "/tmp/ipykernel_941644/824132600.py:8: DeprecationWarning: The 'backend' keyword arguments are deprecated as of qiskit-ibm-runtime 0.24.0 and will be removed no sooner than 3 months after the release date. Please use the 'mode' parameter instead.\n",
      "  sampler = Sampler(backend=backend)\n"
     ]
    },
    {
     "name": "stdout",
     "output_type": "stream",
     "text": [
      "Dictionary successfully saved to qaoa_hardware/primitive_3.pickle\n"
     ]
    },
    {
     "data": {
      "text/plain": [
       "PrimitiveResult([PubResult(data=DataBin(meas=BitArray(<shape=(), num_shots=1024, num_bits=7>)), metadata={'circuit_metadata': {}})], metadata={'version': 2})"
      ]
     },
     "execution_count": 13,
     "metadata": {},
     "output_type": "execute_result"
    }
   ],
   "execution_count": 13
  },
  {
   "cell_type": "code",
   "source": [
    "samp_dist = result[0].data.meas.get_counts()"
   ],
   "metadata": {
    "collapsed": false,
    "ExecuteTime": {
     "end_time": "2024-06-24T09:02:29.211925Z",
     "start_time": "2024-06-24T09:02:29.209199Z"
    }
   },
   "outputs": [],
   "execution_count": 14
  },
  {
   "cell_type": "code",
   "source": [
    "samp_df = pd.DataFrame(columns=head_samp)\n",
    "optimal_fva = print_diet(best_solution, df)\n",
    "optimal_bits = ''\n",
    "optimal_samp = 0\n",
    "optimal_solution = []\n",
    "\n",
    "for s in samp_dist.keys():\n",
    "    for case_index in range(len(case_list)):\n",
    "        solution[case_list[case_index]] = int(s[case_index])\n",
    "    fval = print_diet(solution, df)\n",
    "    value_samp = [s, samp_dist[s], fval]\n",
    "    samp_df.loc[len(samp_df)] = value_samp\n",
    "    if fval < optimal_fva:\n",
    "        optimal_fva = fval\n",
    "        optimal_bits = s\n",
    "        optimal_samp = samp_dist[s]\n",
    "        optimal_solution = solution.copy()\n",
    "samp_df.to_csv(\"qaoa_hardware/\"+\"samp_3.csv\")\n",
    "\n",
    "itr_num = 3\n",
    "cobyla_itr = res.nfev\n",
    "parameters = res.x\n",
    "head_log = [\"itr_num\", \"sub_problem\", \"fval\", \"solution\", \"cobyla_itr\", \"parameters\", \"impact_time\"]\n",
    "log_df = pd.DataFrame(columns=head_log)\n",
    "values_log = [itr_num, case_list, optimal_fva, optimal_solution, cobyla_itr, parameters, impact_time]\n",
    "log_df.loc[len(log_df)] = values_log\n",
    "log_df.to_csv(\"qaoa_hardware/\"+\"log_3.csv\")"
   ],
   "metadata": {
    "collapsed": false,
    "ExecuteTime": {
     "end_time": "2024-06-24T09:02:29.577181Z",
     "start_time": "2024-06-24T09:02:29.212794Z"
    }
   },
   "outputs": [],
   "execution_count": 15
  },
  {
   "cell_type": "code",
   "source": [
    "log_info = pd.read_csv(\"qaoa_hardware/log_3.csv\")\n",
    "optimal_solution = [int(x) for x in log_info[\"solution\"][0][1:-1].split(', ')]\n",
    "optimal_fva = print_diet(optimal_solution, df)\n",
    "optimal_fva"
   ],
   "metadata": {
    "collapsed": false,
    "ExecuteTime": {
     "end_time": "2024-06-24T09:02:29.586322Z",
     "start_time": "2024-06-24T09:02:29.578573Z"
    }
   },
   "outputs": [
    {
     "data": {
      "text/plain": [
       "0.13262623255985026"
      ]
     },
     "execution_count": 16,
     "metadata": {},
     "output_type": "execute_result"
    }
   ],
   "execution_count": 16
  },
  {
   "cell_type": "code",
   "source": [
    "energy = optimal_fva\n",
    "solution = optimal_solution\n",
    "start_impact = time.time()\n",
    "impact_order = OrderByImpactNum(solution, df, energy)\n",
    "end_impact = time.time()\n",
    "impact_time = end_impact-start_impact\n",
    "index_begin = 0\n",
    "index_end = problem_size\n",
    "case_list = impact_order[index_begin:index_end]\n",
    "op, obj = create_qubo(times, frs, 1 / 3, 1 / 3, 1 / 3, case_list, solution)\n",
    "# Step 1. map classical inputs to a quantum problem\n",
    "# Problem to Hamiltonian operator\n",
    "hamiltonian = obj[0]\n",
    "# QAOA ansatz circuit\n",
    "ansatz = QAOAAnsatz(hamiltonian, reps=1)\n",
    "# Step 2. Optimize problem for quantum execution\n",
    "service = QiskitRuntimeService(channel=\"ibm_quantum\")\n",
    "backend = service.backends(name=\"ibm_brisbane\")[0]\n",
    "# backend = AerSimulator()\n",
    "pm = generate_preset_pass_manager(backend=backend, optimization_level=3)\n",
    "ansatz_isa = pm.run(ansatz)\n",
    "# ISA Obsesrvables\n",
    "hamiltonian_isa = hamiltonian.apply_layout(ansatz_isa.layout)\n",
    "# Step 3: execute using Qiskit Primitives\n",
    "\n",
    "# Configure estimator\n",
    "estimator = Estimator(backend=backend)\n",
    "estimator.options.default_shots = 1024\n",
    "# estimator.options.twirling.shots_per_randomization = 1\n",
    "# estimator.options.twirling.num_randomizations = 1\n",
    "# estimator.options.twirling.enable_measure = False\n",
    "estimator.options.optimization_level = 1\n",
    "\n",
    "x0 = 2 * np.pi * np.random.rand(ansatz_isa.num_parameters)\n",
    "\n",
    "para_root = \"qaoa_hardware/para_4.pickle\"\n",
    "para = []\n",
    "with open(para_root, 'wb') as file:\n",
    "    pickle.dump(para, file)\n",
    "res = minimize(cost_func, x0, args=(ansatz_isa, hamiltonian_isa, estimator, para_root), method=\"COBYLA\", options={\"maxiter\":50})\n",
    "pickle_file_path = 'qaoa_hardware/result_4.pickle'\n",
    "try:\n",
    "    with open(pickle_file_path, 'wb') as file:\n",
    "        pickle.dump(res, file)\n",
    "    print(f\"Dictionary successfully saved to {pickle_file_path}\")\n",
    "except Exception as e:\n",
    "    print(f\"An error occurred: {e}\")\n",
    "res"
   ],
   "metadata": {
    "collapsed": false,
    "ExecuteTime": {
     "end_time": "2024-06-24T09:47:50.582576Z",
     "start_time": "2024-06-24T09:06:35.288031Z"
    }
   },
   "outputs": [
    {
     "name": "stderr",
     "output_type": "stream",
     "text": [
      "/tmp/ipykernel_941644/2357403478.py:27: DeprecationWarning: The 'backend' keyword arguments are deprecated as of qiskit-ibm-runtime 0.24.0 and will be removed no sooner than 3 months after the release date. Please use the 'mode' parameter instead.\n",
      "  estimator = Estimator(backend=backend)\n"
     ]
    },
    {
     "name": "stdout",
     "output_type": "stream",
     "text": [
      "[3.06163448 1.96855204]\n",
      "[4.06163448 1.96855204]\n",
      "[3.06163448 2.96855204]\n",
      "[2.0620125  1.94105859]\n",
      "[2.56182349 1.95480531]\n",
      "[2.0632839  1.91661791]\n",
      "[2.56869685 1.70489982]\n",
      "[2.06758788 2.03050977]\n",
      "[2.31470569 1.99265754]\n",
      "[2.68384399 1.98193461]\n",
      "[2.56140987 1.89230668]\n",
      "[2.55277718 1.83040574]\n",
      "[2.53016056 1.89251349]\n",
      "[2.61863714 1.86718121]\n",
      "[2.53384739 1.8775801 ]\n",
      "[2.56164733 1.90792988]\n",
      "[2.5714857  1.88036439]\n",
      "[2.55419277 1.88931527]\n",
      "[2.56500047 1.89076837]\n",
      "[2.56160316 1.89620815]\n",
      "[2.55984664 1.89113578]\n",
      "[2.56167209 1.89324738]\n",
      "[2.56215529 1.89167579]\n",
      "[2.56099872 1.8920433 ]\n",
      "[2.5615386  1.89251413]\n",
      "[2.56157763 1.8921293 ]\n",
      "[2.56131016 1.89231431]\n",
      "[2.56140606 1.89225683]\n",
      "[2.56145021 1.89239819]\n",
      "Dictionary successfully saved to qaoa_hardware/result_4.pickle\n"
     ]
    },
    {
     "data": {
      "text/plain": [
       " message: Optimization terminated successfully.\n",
       " success: True\n",
       "  status: 1\n",
       "     fun: -0.0008952603081070199\n",
       "       x: [ 2.561e+00  1.892e+00]\n",
       "    nfev: 29\n",
       "   maxcv: 0.0"
      ]
     },
     "execution_count": 17,
     "metadata": {},
     "output_type": "execute_result"
    }
   ],
   "execution_count": 17
  },
  {
   "cell_type": "code",
   "source": [
    "from qiskit_ibm_runtime import SamplerV2 as Sampler\n",
    "# Assign solution parameters to ansatz\n",
    "qc = ansatz.assign_parameters(res.x)\n",
    "# Add measurements to our circuit\n",
    "qc.measure_all()\n",
    "qc_isa = pm.run(qc)\n",
    "\n",
    "sampler = Sampler(backend=backend)\n",
    "sampler.options.default_shots = 1024\n",
    "result = sampler.run([qc_isa]).result()\n",
    "pickle_file_path = 'qaoa_hardware/primitive_4.pickle'\n",
    "try:\n",
    "    with open(pickle_file_path, 'wb') as file:\n",
    "        pickle.dump(result, file)\n",
    "    print(f\"Dictionary successfully saved to {pickle_file_path}\")\n",
    "except Exception as e:\n",
    "    print(f\"An error occurred: {e}\")\n",
    "result"
   ],
   "metadata": {
    "collapsed": false,
    "ExecuteTime": {
     "end_time": "2024-06-24T09:49:03.198609Z",
     "start_time": "2024-06-24T09:47:50.583782Z"
    }
   },
   "outputs": [
    {
     "name": "stderr",
     "output_type": "stream",
     "text": [
      "/tmp/ipykernel_941644/3630223236.py:8: DeprecationWarning: The 'backend' keyword arguments are deprecated as of qiskit-ibm-runtime 0.24.0 and will be removed no sooner than 3 months after the release date. Please use the 'mode' parameter instead.\n",
      "  sampler = Sampler(backend=backend)\n"
     ]
    },
    {
     "name": "stdout",
     "output_type": "stream",
     "text": [
      "Dictionary successfully saved to qaoa_hardware/primitive_4.pickle\n"
     ]
    },
    {
     "data": {
      "text/plain": [
       "PrimitiveResult([PubResult(data=DataBin(meas=BitArray(<shape=(), num_shots=1024, num_bits=7>)), metadata={'circuit_metadata': {}})], metadata={'version': 2})"
      ]
     },
     "execution_count": 18,
     "metadata": {},
     "output_type": "execute_result"
    }
   ],
   "execution_count": 18
  },
  {
   "cell_type": "code",
   "source": [
    "samp_dist = result[0].data.meas.get_counts()"
   ],
   "metadata": {
    "collapsed": false,
    "ExecuteTime": {
     "end_time": "2024-06-24T09:49:03.203030Z",
     "start_time": "2024-06-24T09:49:03.199535Z"
    }
   },
   "outputs": [],
   "execution_count": 19
  },
  {
   "cell_type": "code",
   "source": [
    "samp_df = pd.DataFrame(columns=head_samp)\n",
    "optimal_fva = print_diet(best_solution, df)\n",
    "optimal_bits = ''\n",
    "optimal_samp = 0\n",
    "optimal_solution = []\n",
    "\n",
    "for s in samp_dist.keys():\n",
    "    for case_index in range(len(case_list)):\n",
    "        solution[case_list[case_index]] = int(s[case_index])\n",
    "    fval = print_diet(solution, df)\n",
    "    value_samp = [s, samp_dist[s], fval]\n",
    "    samp_df.loc[len(samp_df)] = value_samp\n",
    "    if fval < optimal_fva:\n",
    "        optimal_fva = fval\n",
    "        optimal_bits = s\n",
    "        optimal_samp = samp_dist[s]\n",
    "        optimal_solution = solution.copy()\n",
    "samp_df.to_csv(\"qaoa_hardware/\"+\"samp_4.csv\")\n",
    "\n",
    "itr_num = 4\n",
    "cobyla_itr = res.nfev\n",
    "parameters = res.x\n",
    "head_log = [\"itr_num\", \"sub_problem\", \"fval\", \"solution\", \"cobyla_itr\", \"parameters\", \"impact_time\"]\n",
    "log_df = pd.DataFrame(columns=head_log)\n",
    "values_log = [itr_num, case_list, optimal_fva, optimal_solution, cobyla_itr, parameters, impact_time]\n",
    "log_df.loc[len(log_df)] = values_log\n",
    "log_df.to_csv(\"qaoa_hardware/\"+\"log_4.csv\")"
   ],
   "metadata": {
    "collapsed": false,
    "ExecuteTime": {
     "end_time": "2024-06-24T09:49:03.491853Z",
     "start_time": "2024-06-24T09:49:03.204041Z"
    }
   },
   "outputs": [],
   "execution_count": 20
  },
  {
   "cell_type": "code",
   "source": [
    "log_info = pd.read_csv(\"qaoa_hardware/log_4.csv\")\n",
    "optimal_solution = [int(x) for x in log_info[\"solution\"][0][1:-1].split(', ')]\n",
    "optimal_fva = print_diet(optimal_solution, df)\n",
    "optimal_fva"
   ],
   "metadata": {
    "collapsed": false,
    "ExecuteTime": {
     "end_time": "2024-06-24T09:51:57.904109Z",
     "start_time": "2024-06-24T09:51:57.896259Z"
    }
   },
   "outputs": [
    {
     "data": {
      "text/plain": [
       "0.12876449798027484"
      ]
     },
     "execution_count": 21,
     "metadata": {},
     "output_type": "execute_result"
    }
   ],
   "execution_count": 21
  },
  {
   "cell_type": "code",
   "source": [
    "QiskitRuntimeService.save_account(\n",
    "    channel=\"ibm_quantum\",\n",
    "    token=\"db8676fa00b1c67b3b2c1f4d317be3ff6c36a156e751c66f7609f3e5cb34e18eb33f5619d82489ef3702d8122af5f58c5bffb9856baab9132ea4bc6f96028bf7\",\n",
    "    set_as_default=True,\n",
    "    # Use `overwrite=True` if you're updating your token.\n",
    "    overwrite=True,\n",
    ")\n",
    "# To run on hardware, select the backend with the fewest number of jobs in the queue\n",
    "service = QiskitRuntimeService(channel=\"ibm_quantum\")\n",
    "backend = service.backends(name=\"ibm_brisbane\")[0]\n",
    "\n",
    "energy = optimal_fva\n",
    "solution = optimal_solution\n",
    "start_impact = time.time()\n",
    "impact_order = OrderByImpactNum(solution, df, energy)\n",
    "end_impact = time.time()\n",
    "impact_time = end_impact-start_impact\n",
    "index_begin = 0\n",
    "index_end = problem_size\n",
    "case_list = impact_order[index_begin:index_end]\n",
    "op, obj = create_qubo(times, frs, 1 / 3, 1 / 3, 1 / 3, case_list, solution)\n",
    "# Step 1. map classical inputs to a quantum problem\n",
    "# Problem to Hamiltonian operator\n",
    "hamiltonian = obj[0]\n",
    "# QAOA ansatz circuit\n",
    "ansatz = QAOAAnsatz(hamiltonian, reps=1)\n",
    "# Step 2. Optimize problem for quantum execution\n",
    "service = QiskitRuntimeService(channel=\"ibm_quantum\")\n",
    "backend = service.backends(name=\"ibm_brisbane\")[0]\n",
    "# backend = AerSimulator()\n",
    "pm = generate_preset_pass_manager(backend=backend, optimization_level=3)\n",
    "ansatz_isa = pm.run(ansatz)\n",
    "# ISA Obsesrvables\n",
    "hamiltonian_isa = hamiltonian.apply_layout(ansatz_isa.layout)\n",
    "# Step 3: execute using Qiskit Primitives\n",
    "\n",
    "# Configure estimator\n",
    "estimator = Estimator(backend=backend)\n",
    "estimator.options.default_shots = 1024\n",
    "# estimator.options.twirling.shots_per_randomization = 1\n",
    "# estimator.options.twirling.num_randomizations = 1\n",
    "# estimator.options.twirling.enable_measure = False\n",
    "estimator.options.optimization_level = 1\n",
    "\n",
    "x0 = 2 * np.pi * np.random.rand(ansatz_isa.num_parameters)\n",
    "\n",
    "para_root = \"qaoa_hardware/para_5.pickle\"\n",
    "para = []\n",
    "with open(para_root, 'wb') as file:\n",
    "    pickle.dump(para, file)\n",
    "res = minimize(cost_func, x0, args=(ansatz_isa, hamiltonian_isa, estimator, para_root), method=\"COBYLA\", options={\"maxiter\":50})\n",
    "pickle_file_path = 'qaoa_hardware/result_5.pickle'\n",
    "try:\n",
    "    with open(pickle_file_path, 'wb') as file:\n",
    "        pickle.dump(res, file)\n",
    "    print(f\"Dictionary successfully saved to {pickle_file_path}\")\n",
    "except Exception as e:\n",
    "    print(f\"An error occurred: {e}\")\n",
    "res"
   ],
   "metadata": {
    "collapsed": false,
    "ExecuteTime": {
     "end_time": "2024-06-24T10:37:10.091761Z",
     "start_time": "2024-06-24T09:52:00.447779Z"
    }
   },
   "outputs": [
    {
     "name": "stderr",
     "output_type": "stream",
     "text": [
      "/tmp/ipykernel_941644/2442508433.py:38: DeprecationWarning: The 'backend' keyword arguments are deprecated as of qiskit-ibm-runtime 0.24.0 and will be removed no sooner than 3 months after the release date. Please use the 'mode' parameter instead.\n",
      "  estimator = Estimator(backend=backend)\n"
     ]
    },
    {
     "name": "stdout",
     "output_type": "stream",
     "text": [
      "[5.81067473 5.35922983]\n",
      "[6.81067473 5.35922983]\n",
      "[6.81067473 6.35922983]\n",
      "[7.71764197 4.93802866]\n",
      "[7.26415835 5.14862924]\n",
      "[6.56512682 5.31225936]\n",
      "[6.85959415 5.60439689]\n",
      "[6.92482382 5.30828884]\n",
      "[6.81412627 5.42163445]\n",
      "[6.77054007 5.31131888]\n",
      "[6.83976835 5.34782264]\n",
      "[6.79563025 5.35501033]\n",
      "[6.81198361 5.37479991]\n",
      "[6.81837884 5.35793295]\n",
      "[6.81015147 5.36310087]\n",
      "[6.80799231 5.35639021]\n",
      "[6.81260986 5.35896532]\n",
      "[6.80974531 5.35893008]\n",
      "[6.81063579 5.36020561]\n",
      "[6.81097248 5.35884284]\n",
      "[6.8106504  5.35947275]\n",
      "[6.81043483 5.35918449]\n",
      "[6.81077473 5.35922888]\n",
      "[6.81067426 5.35917983]\n",
      "[6.81064483 5.35932525]\n",
      "Dictionary successfully saved to qaoa_hardware/result_5.pickle\n"
     ]
    },
    {
     "data": {
      "text/plain": [
       " message: Optimization terminated successfully.\n",
       " success: True\n",
       "  status: 1\n",
       "     fun: 6.085743553679383e-05\n",
       "       x: [ 6.811e+00  5.359e+00]\n",
       "    nfev: 25\n",
       "   maxcv: 0.0"
      ]
     },
     "execution_count": 22,
     "metadata": {},
     "output_type": "execute_result"
    }
   ],
   "execution_count": 22
  },
  {
   "cell_type": "code",
   "source": [
    "from qiskit_ibm_runtime import SamplerV2 as Sampler\n",
    "# Assign solution parameters to ansatz\n",
    "qc = ansatz.assign_parameters(res.x)\n",
    "# Add measurements to our circuit\n",
    "qc.measure_all()\n",
    "qc_isa = pm.run(qc)\n",
    "\n",
    "sampler = Sampler(backend=backend)\n",
    "sampler.options.default_shots = 1024\n",
    "result = sampler.run([qc_isa]).result()\n",
    "pickle_file_path = 'qaoa_hardware/primitive_5.pickle'\n",
    "try:\n",
    "    with open(pickle_file_path, 'wb') as file:\n",
    "        pickle.dump(result, file)\n",
    "    print(f\"Dictionary successfully saved to {pickle_file_path}\")\n",
    "except Exception as e:\n",
    "    print(f\"An error occurred: {e}\")\n",
    "result"
   ],
   "metadata": {
    "collapsed": false,
    "ExecuteTime": {
     "end_time": "2024-06-24T10:39:19.923234Z",
     "start_time": "2024-06-24T10:37:10.097442Z"
    }
   },
   "outputs": [
    {
     "name": "stderr",
     "output_type": "stream",
     "text": [
      "/tmp/ipykernel_941644/1660856653.py:8: DeprecationWarning: The 'backend' keyword arguments are deprecated as of qiskit-ibm-runtime 0.24.0 and will be removed no sooner than 3 months after the release date. Please use the 'mode' parameter instead.\n",
      "  sampler = Sampler(backend=backend)\n"
     ]
    },
    {
     "name": "stdout",
     "output_type": "stream",
     "text": [
      "Dictionary successfully saved to qaoa_hardware/primitive_5.pickle\n"
     ]
    },
    {
     "data": {
      "text/plain": [
       "PrimitiveResult([PubResult(data=DataBin(meas=BitArray(<shape=(), num_shots=1024, num_bits=7>)), metadata={'circuit_metadata': {}})], metadata={'version': 2})"
      ]
     },
     "execution_count": 23,
     "metadata": {},
     "output_type": "execute_result"
    }
   ],
   "execution_count": 23
  },
  {
   "cell_type": "code",
   "source": [
    "samp_dist = result[0].data.meas.get_counts()"
   ],
   "metadata": {
    "collapsed": false,
    "ExecuteTime": {
     "end_time": "2024-06-24T10:39:19.927506Z",
     "start_time": "2024-06-24T10:39:19.924111Z"
    }
   },
   "outputs": [],
   "execution_count": 24
  },
  {
   "cell_type": "code",
   "source": [
    "samp_df = pd.DataFrame(columns=head_samp)\n",
    "optimal_fva = print_diet(best_solution, df)\n",
    "optimal_bits = ''\n",
    "optimal_samp = 0\n",
    "optimal_solution = []\n",
    "\n",
    "for s in samp_dist.keys():\n",
    "    for case_index in range(len(case_list)):\n",
    "        solution[case_list[case_index]] = int(s[case_index])\n",
    "    fval = print_diet(solution, df)\n",
    "    value_samp = [s, samp_dist[s], fval]\n",
    "    samp_df.loc[len(samp_df)] = value_samp\n",
    "    if fval < optimal_fva:\n",
    "        optimal_fva = fval\n",
    "        optimal_bits = s\n",
    "        optimal_samp = samp_dist[s]\n",
    "        optimal_solution = solution.copy()\n",
    "samp_df.to_csv(\"qaoa_hardware/\"+\"samp_5.csv\")\n",
    "\n",
    "itr_num = 5\n",
    "cobyla_itr = res.nfev\n",
    "parameters = res.x\n",
    "head_log = [\"itr_num\", \"sub_problem\", \"fval\", \"solution\", \"cobyla_itr\", \"parameters\", \"impact_time\"]\n",
    "log_df = pd.DataFrame(columns=head_log)\n",
    "values_log = [itr_num, case_list, optimal_fva, optimal_solution, cobyla_itr, parameters, impact_time]\n",
    "log_df.loc[len(log_df)] = values_log\n",
    "log_df.to_csv(\"qaoa_hardware/\"+\"log_5.csv\")"
   ],
   "metadata": {
    "collapsed": false,
    "ExecuteTime": {
     "end_time": "2024-06-24T10:39:20.233891Z",
     "start_time": "2024-06-24T10:39:19.928509Z"
    }
   },
   "outputs": [],
   "execution_count": 25
  },
  {
   "cell_type": "code",
   "source": [
    "log_info = pd.read_csv(\"qaoa_hardware/log_5.csv\")\n",
    "optimal_solution = [int(x) for x in log_info[\"solution\"][0][1:-1].split(', ')]\n",
    "optimal_fva = print_diet(optimal_solution, df)\n",
    "optimal_fva"
   ],
   "metadata": {
    "collapsed": false,
    "ExecuteTime": {
     "end_time": "2024-06-24T10:39:20.241447Z",
     "start_time": "2024-06-24T10:39:20.234738Z"
    }
   },
   "outputs": [
    {
     "data": {
      "text/plain": [
       "0.12748066282974857"
      ]
     },
     "execution_count": 26,
     "metadata": {},
     "output_type": "execute_result"
    }
   ],
   "execution_count": 26
  }
 ],
 "metadata": {
  "kernelspec": {
   "display_name": "Python 3",
   "language": "python",
   "name": "python3"
  },
  "language_info": {
   "codemirror_mode": {
    "name": "ipython",
    "version": 2
   },
   "file_extension": ".py",
   "mimetype": "text/x-python",
   "name": "python",
   "nbconvert_exporter": "python",
   "pygments_lexer": "ipython2",
   "version": "2.7.6"
  }
 },
 "nbformat": 4,
 "nbformat_minor": 0
}
